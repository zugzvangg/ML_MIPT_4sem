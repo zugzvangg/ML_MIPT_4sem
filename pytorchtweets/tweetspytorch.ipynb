{
  "nbformat": 4,
  "nbformat_minor": 0,
  "metadata": {
    "accelerator": "GPU",
    "colab": {
      "name": "tweetspytorch.ipynb",
      "provenance": [],
      "collapsed_sections": [],
      "include_colab_link": true
    },
    "kernelspec": {
      "display_name": "Python 3",
      "language": "python",
      "name": "python3"
    },
    "language_info": {
      "codemirror_mode": {
        "name": "ipython",
        "version": 3
      },
      "file_extension": ".py",
      "mimetype": "text/x-python",
      "name": "python",
      "nbconvert_exporter": "python",
      "pygments_lexer": "ipython3",
      "version": "3.8.5"
    }
  },
  "cells": [
    {
      "cell_type": "markdown",
      "metadata": {
        "id": "view-in-github",
        "colab_type": "text"
      },
      "source": [
        "<a href=\"https://colab.research.google.com/github/zugzvangg/ML_MIPT_4sem/blob/main/pytorchtweets/tweetspytorch.ipynb\" target=\"_parent\"><img src=\"https://colab.research.google.com/assets/colab-badge.svg\" alt=\"Open In Colab\"/></a>"
      ]
    },
    {
      "cell_type": "markdown",
      "metadata": {
        "id": "WzVTnKY-_cfy"
      },
      "source": [
        "## Предсказание тега твиттов по тексту с помощью NLP на pytorch"
      ]
    },
    {
      "cell_type": "markdown",
      "metadata": {
        "id": "dg4OVC36APsi"
      },
      "source": [
        "В начальном файле были оставлены только текст твитта и целевая метрика без удаления эмодзи, знаков препинания и прочего шума, который мы чистили, решая задачу с помощью классических методов NLP. "
      ]
    },
    {
      "cell_type": "code",
      "metadata": {
        "id": "DVQ_wi5z0B-h",
        "colab": {
          "base_uri": "https://localhost:8080/"
        },
        "outputId": "c18feb08-8cc2-45b6-9c67-de77f5de6719"
      },
      "source": [
        "import torch\n",
        "from sklearn.model_selection import KFold\n",
        "from torchtext.legacy import data\n",
        "import numpy as np  \n",
        "import torch.optim as optim\n",
        "SEED = 42\n",
        "\n",
        "torch.manual_seed(SEED)\n",
        "torch.backends.cudnn.deterministic = True\n",
        "\n",
        "TEXT = data.Field(include_lengths = True,\n",
        "                  tokenize = 'spacy',\n",
        "                  tokenizer_language = 'en_core_web_sm')\n",
        "LABEL = data.LabelField()\n",
        "from google.colab import drive\n",
        "drive.mount('/content/drive')\n",
        "import random\n",
        "\n",
        "fields = {\"airline_sentiment\": ('label', LABEL), \"text\":('text', TEXT) }\n",
        "train_data= data.TabularDataset.splits(\n",
        "                                        path = '/content/drive/MyDrive/Datasets',\n",
        "                                        train = \"Tweets.json\",\n",
        "                                        format = 'json',\n",
        "                                        fields = fields)[0]\n"
      ],
      "execution_count": 6,
      "outputs": [
        {
          "output_type": "stream",
          "text": [
            "Mounted at /content/drive\n"
          ],
          "name": "stdout"
        }
      ]
    },
    {
      "cell_type": "code",
      "metadata": {
        "colab": {
          "base_uri": "https://localhost:8080/"
        },
        "id": "q96E8XMYwhAR",
        "outputId": "fb4af98c-db79-4446-ef68-df6cd1839e48"
      },
      "source": [
        "print(vars(train_data[2]))\n"
      ],
      "execution_count": 7,
      "outputs": [
        {
          "output_type": "stream",
          "text": [
            "{'label': 'neutral', 'text': ['@VirginAmerica', 'I', 'did', \"n't\", 'today', '...', 'Must', 'mean', 'I', 'need', 'to', 'take', 'another', 'trip', '!']}\n"
          ],
          "name": "stdout"
        }
      ]
    },
    {
      "cell_type": "code",
      "metadata": {
        "id": "UbHV7qx40B-k",
        "colab": {
          "base_uri": "https://localhost:8080/"
        },
        "outputId": "39b87e3f-7212-45f6-ee8a-6efd1fc19c2d"
      },
      "source": [
        "\n",
        "TEXT.build_vocab(train_data, \n",
        "                 vectors = \"fasttext.simple.300d\", \n",
        "                 unk_init = torch.Tensor.normal_)\n",
        "\n",
        "LABEL.build_vocab(train_data)\n",
        "train_data, valid_data = train_data.split(random_state = random.seed(SEED))\n",
        "test_data = valid_data"
      ],
      "execution_count": 8,
      "outputs": [
        {
          "output_type": "stream",
          "text": [
            ".vector_cache/wiki.simple.vec: 293MB [00:12, 22.7MB/s]                           \n",
            "  0%|          | 0/111051 [00:00<?, ?it/s]Skipping token b'111051' with 1-dimensional vector [b'300']; likely a header\n",
            "100%|█████████▉| 110948/111051 [00:10<00:00, 10585.40it/s]"
          ],
          "name": "stderr"
        }
      ]
    },
    {
      "cell_type": "code",
      "metadata": {
        "id": "iL7RcfRD0B-l"
      },
      "source": [
        "BATCH_SIZE = 128\n",
        "\n",
        "device = torch.device('cuda' if torch.cuda.is_available() else 'cpu')\n",
        "\n",
        "train_iterator, valid_iterator, test_iterator = data.BucketIterator.splits(\n",
        "    (train_data, valid_data, test_data), \n",
        "    batch_size = BATCH_SIZE,\n",
        "    sort_key = lambda x: len(x.text),\n",
        "    sort_within_batch = True, \n",
        "    device = device)"
      ],
      "execution_count": 9,
      "outputs": []
    },
    {
      "cell_type": "code",
      "metadata": {
        "id": "GJrsI5BB0B-n"
      },
      "source": [
        "import torch.nn as nn\n",
        "\n",
        "class RNN(nn.Module):\n",
        "    def __init__(self, vocab_size, embedding_dim, hidden_dim, output_dim, n_layers, \n",
        "                 bidirectional, dropout, pad_idx):\n",
        "        \n",
        "        super().__init__()\n",
        "        \n",
        "        self.embedding = nn.Embedding(vocab_size, embedding_dim, padding_idx = pad_idx)\n",
        "        \n",
        "        self.rnn = nn.LSTM(embedding_dim, \n",
        "                           hidden_dim, \n",
        "                           num_layers=n_layers, \n",
        "                           bidirectional=bidirectional, \n",
        "                           dropout=dropout)\n",
        "        \n",
        "        self.fc = nn.Linear(hidden_dim * 2, output_dim)\n",
        "        \n",
        "        self.dropout = nn.Dropout(dropout)\n",
        "        \n",
        "    def forward(self, text, text_lengths):\n",
        "        \n",
        "        embedded = self.dropout(self.embedding(text))\n",
        "        \n",
        "        packed_embedded = nn.utils.rnn.pack_padded_sequence(embedded, text_lengths.to('cpu'))\n",
        "        \n",
        "        packed_output, (hidden, cell) = self.rnn(packed_embedded)\n",
        "        output, output_lengths = nn.utils.rnn.pad_packed_sequence(packed_output)\n",
        "        hidden = self.dropout(torch.cat((hidden[-2,:,:], hidden[-1,:,:]), dim = 1))\n",
        "\n",
        "        return self.fc(hidden)"
      ],
      "execution_count": 10,
      "outputs": []
    },
    {
      "cell_type": "code",
      "metadata": {
        "id": "dpM681-KKDec",
        "colab": {
          "base_uri": "https://localhost:8080/"
        },
        "outputId": "85c7a83d-17c2-4ad0-efe5-a43ab1a276dc"
      },
      "source": [
        "INPUT_DIM = len(TEXT.vocab)\n",
        "print(INPUT_DIM)\n",
        "EMBEDDING_DIM = 300\n",
        "HIDDEN_DIM = 256\n",
        "OUTPUT_DIM = len(LABEL.vocab)\n",
        "N_LAYERS = 2\n",
        "BIDIRECTIONAL = True\n",
        "DROPOUT = 0.5\n",
        "PAD_IDX = TEXT.vocab.stoi[TEXT.pad_token]\n",
        "\n",
        "model = RNN(INPUT_DIM, \n",
        "            EMBEDDING_DIM, \n",
        "            HIDDEN_DIM, \n",
        "            OUTPUT_DIM, \n",
        "            N_LAYERS, \n",
        "            BIDIRECTIONAL, \n",
        "            DROPOUT, \n",
        "            PAD_IDX)"
      ],
      "execution_count": 11,
      "outputs": [
        {
          "output_type": "stream",
          "text": [
            "19137\n"
          ],
          "name": "stdout"
        }
      ]
    },
    {
      "cell_type": "code",
      "metadata": {
        "id": "d4tcvC7_0B-s"
      },
      "source": [
        "pretrained_embeddings = TEXT.vocab.vectors\n",
        "\n",
        "model.embedding.weight.data.copy_(pretrained_embeddings)\n",
        "UNK_IDX = TEXT.vocab.stoi[TEXT.unk_token]\n",
        "\n",
        "model.embedding.weight.data[UNK_IDX] = torch.zeros(EMBEDDING_DIM)\n",
        "model.embedding.weight.data[PAD_IDX] = torch.zeros(EMBEDDING_DIM)"
      ],
      "execution_count": 12,
      "outputs": []
    },
    {
      "cell_type": "code",
      "metadata": {
        "id": "3naOuqkkVGOL"
      },
      "source": [
        "def get_weights(iterator):\n",
        "  weights = torch.zeros(len(LABEL.vocab))\n",
        "  for batch in iterator:\n",
        "    for i in batch.label:\n",
        "      weights[i.cpu().numpy()] +=1\n",
        "  print(weights)\n",
        "  for i in range(0, len(LABEL.vocab)):\n",
        "    weights[i] = (1 / weights[i]) * 100\n",
        "    weights[i] = weights[i] \n",
        "  return weights"
      ],
      "execution_count": 13,
      "outputs": []
    },
    {
      "cell_type": "code",
      "metadata": {
        "id": "PFgKxNI1V9Lh",
        "colab": {
          "base_uri": "https://localhost:8080/"
        },
        "outputId": "02c8fd54-79cc-44c0-b2f3-8686b6a066e0"
      },
      "source": [
        "print(get_weights(train_iterator))"
      ],
      "execution_count": 14,
      "outputs": [
        {
          "output_type": "stream",
          "text": [
            "tensor([6388., 2198., 1662.])\n",
            "tensor([0.0157, 0.0455, 0.0602])\n"
          ],
          "name": "stdout"
        }
      ]
    },
    {
      "cell_type": "code",
      "metadata": {
        "id": "PRVnqEyp0B-u",
        "colab": {
          "base_uri": "https://localhost:8080/"
        },
        "outputId": "d76d278f-d993-4e6a-d842-c0888bac0658"
      },
      "source": [
        "import torch.optim as optim\n",
        "\n",
        "optimizer = optim.Adam(model.parameters())\n",
        "\n",
        "criterion = nn.CrossEntropyLoss(weight =  get_weights(train_iterator))\n",
        "\n",
        "model = model.to(device)\n",
        "criterion = criterion.to(device)"
      ],
      "execution_count": 15,
      "outputs": [
        {
          "output_type": "stream",
          "text": [
            "tensor([6388., 2198., 1662.])\n"
          ],
          "name": "stdout"
        }
      ]
    },
    {
      "cell_type": "code",
      "metadata": {
        "id": "lMW4vXGF0B-v"
      },
      "source": [
        "from sklearn.metrics import f1_score\n",
        "from sklearn.metrics import recall_score\n",
        "def categorical_accuracy(preds, y):\n",
        "    top_pred = preds.argmax(1, keepdim = True)\n",
        "    y_score = top_pred.detach().cpu().numpy()\n",
        "    y_true = y.view_as(top_pred).cpu().numpy()\n",
        "    f1 = f1_score(y_true, y_score, average = 'weighted')\n",
        "    rec = recall_score(y_true, y_score, average = 'weighted')\n",
        "    correct = top_pred.eq(y.view_as(top_pred)).sum()\n",
        "    acc = correct.float() / y.shape[0]\n",
        "    return (rec, f1, acc)"
      ],
      "execution_count": 16,
      "outputs": []
    },
    {
      "cell_type": "code",
      "metadata": {
        "id": "D7AKQQV60B-v"
      },
      "source": [
        "def train(model, iterator, optimizer, criterion):\n",
        "    \n",
        "    epoch_loss = 0\n",
        "    epoch_acc = 0\n",
        "    epoch_f1 = 0\n",
        "    epoch_rec = 0\n",
        "    model.train()\n",
        "    \n",
        "    for batch in iterator:\n",
        "        \n",
        "        optimizer.zero_grad()\n",
        "        \n",
        "        text, text_lengths = batch.text\n",
        "        \n",
        "        predictions = model(text, text_lengths).squeeze(1)\n",
        "        \n",
        "        loss = criterion(predictions, batch.label)\n",
        "        \n",
        "        metrics = categorical_accuracy(predictions, batch.label)\n",
        "        \n",
        "        loss.backward()\n",
        "        \n",
        "        optimizer.step()\n",
        "        acc = metrics[2]\n",
        "        f1 = metrics[1]\n",
        "        rec = metrics[0]\n",
        "        epoch_loss += loss.item()\n",
        "        epoch_acc += acc.item()\n",
        "        epoch_f1 += f1\n",
        "        epoch_rec += rec\n",
        "    epoch_acc /= len(iterator)\n",
        "    epoch_f1 /= len(iterator)\n",
        "    epoch_rec /= len(iterator)\n",
        "    return epoch_loss / len(iterator), (epoch_rec, epoch_f1, epoch_acc)"
      ],
      "execution_count": 17,
      "outputs": []
    },
    {
      "cell_type": "code",
      "metadata": {
        "id": "_cvseorx0B-w"
      },
      "source": [
        "def evaluate(model, iterator, criterion):\n",
        "    \n",
        "    epoch_loss = 0\n",
        "    epoch_acc = 0\n",
        "    epoch_f1 = 0\n",
        "    epoch_rec = 0\n",
        "    \n",
        "    model.eval()\n",
        "    \n",
        "    with torch.no_grad():\n",
        "    \n",
        "        for batch in iterator:\n",
        "\n",
        "            text, text_lengths = batch.text\n",
        "            \n",
        "            predictions = model(text, text_lengths)\n",
        "            \n",
        "            loss = criterion(predictions, batch.label)\n",
        "            \n",
        "            metrics = categorical_accuracy(predictions, batch.label)\n",
        "\n",
        "            acc = metrics[2]\n",
        "            f1 = metrics[1]\n",
        "            rec = metrics[0]\n",
        "            epoch_loss += loss.item()\n",
        "            epoch_acc += acc.item()\n",
        "            epoch_f1 += f1\n",
        "            epoch_rec += rec\n",
        "        epoch_acc /= len(iterator)\n",
        "        epoch_f1 /= len(iterator)\n",
        "        epoch_rec /= len(iterator)\n",
        "        \n",
        "    return epoch_loss / len(iterator), (epoch_rec, epoch_f1, epoch_acc)"
      ],
      "execution_count": 18,
      "outputs": []
    },
    {
      "cell_type": "code",
      "metadata": {
        "id": "NfyZOOQP0B-x"
      },
      "source": [
        "import time\n",
        "\n",
        "def epoch_time(start_time, end_time):\n",
        "    elapsed_time = end_time - start_time\n",
        "    elapsed_mins = int(elapsed_time / 60)\n",
        "    elapsed_secs = int(elapsed_time - (elapsed_mins * 60))\n",
        "    return elapsed_mins, elapsed_secs"
      ],
      "execution_count": 19,
      "outputs": []
    },
    {
      "cell_type": "code",
      "metadata": {
        "id": "gxUdLN7a0B-y",
        "colab": {
          "base_uri": "https://localhost:8080/"
        },
        "outputId": "2b6c5705-873e-4398-e5bf-583f01235029"
      },
      "source": [
        "N_EPOCHS = 20\n",
        "\n",
        "best_valid_score = float('0')\n",
        "\n",
        "for epoch in range(N_EPOCHS):\n",
        "\n",
        "    start_time = time.time()\n",
        "    train_data = train(model, train_iterator, optimizer, criterion)\n",
        "    train_loss = train_data[0]\n",
        "    train_score = train_data[1]\n",
        "    valid_data = evaluate(model, valid_iterator, criterion)\n",
        "    valid_score = valid_data[1]\n",
        "    valid_loss = valid_data[0]\n",
        "    end_time = time.time()\n",
        "    valid_acc = float(valid_score[1])\n",
        "    acc = valid_acc\n",
        "    #print(float(valid_acc))\n",
        "    epoch_mins, epoch_secs = epoch_time(start_time, end_time)\n",
        "    print(f'Epoch: {epoch+1:02} | Epoch Time: {epoch_mins}m {epoch_secs}s')\n",
        "    if acc > best_valid_score:\n",
        "        best_valid_score= acc\n",
        "        torch.save(model.state_dict(), '/content/drive/MyDrive/test1.pt')\n",
        "        print(f'\\tValid Loss: {valid_loss:.3f} | Valid F1: {valid_score[1]*100:.2f}% | Valid rec: {valid_score[0]*100:.2f}% | Valid acc: {valid_score[2]*100:.2f}%')\n",
        "    print(f'\\tTrain Loss: {train_loss:.3f} | Train F1: {train_score[1]*100:.2f}% | Train rec: {train_score[0]*100:.2f}% | Train acc: {train_score[2]*100:.2f}%')\n",
        "torch.save(model.state_dict(), '/content/drive/MyDrive/test1_fin.pt')"
      ],
      "execution_count": 20,
      "outputs": [
        {
          "output_type": "stream",
          "text": [
            "Epoch: 01 | Epoch Time: 0m 2s\n",
            "\tValid Loss: 0.802 | Valid F1: 66.83% | Valid rec: 64.69% | Valid acc: 64.69%\n",
            "\tTrain Loss: 0.954 | Train F1: 55.34% | Train rec: 55.61% | Train acc: 55.61%\n",
            "Epoch: 02 | Epoch Time: 0m 1s\n",
            "\tValid Loss: 0.661 | Valid F1: 75.14% | Valid rec: 74.85% | Valid acc: 74.85%\n",
            "\tTrain Loss: 0.732 | Train F1: 69.58% | Train rec: 68.77% | Train acc: 68.77%\n"
          ],
          "name": "stdout"
        },
        {
          "output_type": "stream",
          "text": [
            "\r100%|█████████▉| 110948/111051 [00:30<00:00, 10585.40it/s]"
          ],
          "name": "stderr"
        },
        {
          "output_type": "stream",
          "text": [
            "Epoch: 03 | Epoch Time: 0m 1s\n",
            "\tValid Loss: 0.697 | Valid F1: 77.58% | Valid rec: 77.98% | Valid acc: 77.98%\n",
            "\tTrain Loss: 0.603 | Train F1: 75.54% | Train rec: 74.98% | Train acc: 74.98%\n",
            "Epoch: 04 | Epoch Time: 0m 1s\n",
            "\tValid Loss: 0.627 | Valid F1: 77.68% | Valid rec: 77.15% | Valid acc: 77.15%\n",
            "\tTrain Loss: 0.524 | Train F1: 78.84% | Train rec: 78.27% | Train acc: 78.27%\n",
            "Epoch: 05 | Epoch Time: 0m 1s\n",
            "\tTrain Loss: 0.445 | Train F1: 81.89% | Train rec: 81.48% | Train acc: 81.48%\n",
            "Epoch: 06 | Epoch Time: 0m 1s\n",
            "\tValid Loss: 0.682 | Valid F1: 77.76% | Valid rec: 77.05% | Valid acc: 77.05%\n",
            "\tTrain Loss: 0.396 | Train F1: 83.90% | Train rec: 83.59% | Train acc: 83.59%\n",
            "Epoch: 07 | Epoch Time: 0m 1s\n",
            "\tValid Loss: 0.722 | Valid F1: 79.66% | Valid rec: 79.43% | Valid acc: 79.43%\n",
            "\tTrain Loss: 0.332 | Train F1: 86.44% | Train rec: 86.22% | Train acc: 86.22%\n",
            "Epoch: 08 | Epoch Time: 0m 1s\n",
            "\tTrain Loss: 0.291 | Train F1: 87.96% | Train rec: 87.82% | Train acc: 87.82%\n",
            "Epoch: 09 | Epoch Time: 0m 1s\n",
            "\tValid Loss: 0.836 | Valid F1: 79.84% | Valid rec: 79.99% | Valid acc: 79.99%\n",
            "\tTrain Loss: 0.263 | Train F1: 89.06% | Train rec: 88.93% | Train acc: 88.93%\n",
            "Epoch: 10 | Epoch Time: 0m 1s\n",
            "\tTrain Loss: 0.227 | Train F1: 90.75% | Train rec: 90.65% | Train acc: 90.65%\n",
            "Epoch: 11 | Epoch Time: 0m 1s\n",
            "\tTrain Loss: 0.200 | Train F1: 91.46% | Train rec: 91.34% | Train acc: 91.34%\n",
            "Epoch: 12 | Epoch Time: 0m 1s\n",
            "\tTrain Loss: 0.162 | Train F1: 93.18% | Train rec: 93.11% | Train acc: 93.11%\n",
            "Epoch: 13 | Epoch Time: 0m 1s\n",
            "\tTrain Loss: 0.161 | Train F1: 92.93% | Train rec: 92.88% | Train acc: 92.88%\n",
            "Epoch: 14 | Epoch Time: 0m 2s\n",
            "\tTrain Loss: 0.147 | Train F1: 94.02% | Train rec: 93.98% | Train acc: 93.98%\n",
            "Epoch: 15 | Epoch Time: 0m 1s\n",
            "\tTrain Loss: 0.127 | Train F1: 94.46% | Train rec: 94.43% | Train acc: 94.43%\n",
            "Epoch: 16 | Epoch Time: 0m 2s\n",
            "\tTrain Loss: 0.114 | Train F1: 95.14% | Train rec: 95.11% | Train acc: 95.11%\n",
            "Epoch: 17 | Epoch Time: 0m 2s\n",
            "\tTrain Loss: 0.094 | Train F1: 95.96% | Train rec: 95.95% | Train acc: 95.95%\n",
            "Epoch: 18 | Epoch Time: 0m 2s\n",
            "\tTrain Loss: 0.109 | Train F1: 95.56% | Train rec: 95.52% | Train acc: 95.52%\n",
            "Epoch: 19 | Epoch Time: 0m 2s\n",
            "\tTrain Loss: 0.099 | Train F1: 95.86% | Train rec: 95.82% | Train acc: 95.82%\n",
            "Epoch: 20 | Epoch Time: 0m 2s\n",
            "\tTrain Loss: 0.077 | Train F1: 96.56% | Train rec: 96.55% | Train acc: 96.55%\n"
          ],
          "name": "stdout"
        }
      ]
    },
    {
      "cell_type": "markdown",
      "metadata": {
        "id": "o8CtFsXADpf5"
      },
      "source": [
        "Метрики на тесте:"
      ]
    },
    {
      "cell_type": "code",
      "metadata": {
        "id": "9dLqjTC20B-z",
        "colab": {
          "base_uri": "https://localhost:8080/"
        },
        "outputId": "3c7b45eb-6a66-409f-d7f3-bb4ce1458892"
      },
      "source": [
        "model.load_state_dict(torch.load('/content/drive/MyDrive/test1.pt'))\n",
        "\n",
        "test_data = evaluate(model, valid_iterator, criterion)\n",
        "test_score = test_data[1]\n",
        "test_loss = test_data[0]\n",
        "\n",
        "print(f'\\tTest Loss: {test_loss:.3f} | Test F1: {test_score[1]*100:.2f}% | Test rec: {train_score[0]*100:.2f}% | Test acc: {train_score[2]*100:.2f}%')"
      ],
      "execution_count": 24,
      "outputs": [
        {
          "output_type": "stream",
          "text": [
            "\tTest Loss: 0.836 | Test F1: 79.84% | Test rec: 96.55% | Test acc: 96.55%\n"
          ],
          "name": "stdout"
        }
      ]
    },
    {
      "cell_type": "code",
      "metadata": {
        "id": "vVsmUVm8nrxw",
        "colab": {
          "base_uri": "https://localhost:8080/"
        },
        "outputId": "5f2f4554-1a4c-4156-d239-aebc6f359358"
      },
      "source": [
        "n_categories = len(LABEL.vocab)\n",
        "confusion = np.zeros((n_categories, n_categories))\n",
        "print(confusion)\n",
        "\n",
        "model.eval()\n",
        "sum = 0\n",
        "with torch.no_grad():\n",
        "    for batch in valid_iterator:\n",
        "      text, text_lengths = batch.text\n",
        "      predictions = model(text, text_lengths).squeeze(1)\n",
        "      y = batch.label\n",
        "      top_pred = predictions.argmax(1, keepdim = True)\n",
        "      y_score = top_pred.detach().cpu().numpy()\n",
        "      y_true = y.view_as(top_pred).cpu().numpy()\n",
        "      for i in range(0, y_true.shape[0]):\n",
        "        confusion[[y_true[i] , y_score[i]]] +=1\n",
        "print(confusion)"
      ],
      "execution_count": 25,
      "outputs": [
        {
          "output_type": "stream",
          "text": [
            "[[0. 0. 0.]\n",
            " [0. 0. 0.]\n",
            " [0. 0. 0.]]\n"
          ],
          "name": "stdout"
        },
        {
          "output_type": "stream",
          "text": [
            "/usr/local/lib/python3.7/dist-packages/ipykernel_launcher.py:16: FutureWarning: Using a non-tuple sequence for multidimensional indexing is deprecated; use `arr[tuple(seq)]` instead of `arr[seq]`. In the future this will be interpreted as an array index, `arr[np.array(seq)]`, which will result either in an error or a different result.\n",
            "  app.launch_new_instance()\n"
          ],
          "name": "stderr"
        },
        {
          "output_type": "stream",
          "text": [
            "[[2458.  238.   94.]\n",
            " [ 232.  592.   77.]\n",
            " [  96.  144.  461.]]\n"
          ],
          "name": "stdout"
        }
      ]
    },
    {
      "cell_type": "markdown",
      "metadata": {
        "id": "fE9MRVmtCn94"
      },
      "source": [
        "Confusion matrix:"
      ]
    },
    {
      "cell_type": "code",
      "metadata": {
        "id": "9ra9tedtnr77",
        "colab": {
          "base_uri": "https://localhost:8080/",
          "height": 269
        },
        "outputId": "21561979-8af2-47cb-f9bf-8c08b56a0e9a"
      },
      "source": [
        "\n",
        "for i in range(n_categories):\n",
        "    confusion[i] = confusion[i] / confusion[i].sum()\n",
        "  \n",
        "import matplotlib.pyplot as plt\n",
        "import matplotlib.ticker as ticker\n",
        "\n",
        "fig = plt.figure()\n",
        "ax = fig.add_subplot(111)\n",
        "cax = ax.matshow(confusion)\n",
        "fig.colorbar(cax)\n",
        "ax.xaxis.set_major_locator(ticker.MultipleLocator(1))\n",
        "ax.yaxis.set_major_locator(ticker.MultipleLocator(1))\n",
        "\n",
        "plt.show()"
      ],
      "execution_count": 28,
      "outputs": [
        {
          "output_type": "display_data",
          "data": {
            "image/png": "[encoded data removed]",
            "text/plain": [
              "<Figure size 432x288 with 2 Axes>"
            ]
          },
          "metadata": {
            "tags": [],
            "needs_background": "light"
          }
        }
      ]
    }
  ]
}